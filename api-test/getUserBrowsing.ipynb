{
 "metadata": {
  "language_info": {
   "codemirror_mode": {
    "name": "ipython",
    "version": 3
   },
   "file_extension": ".py",
   "mimetype": "text/x-python",
   "name": "python",
   "nbconvert_exporter": "python",
   "pygments_lexer": "ipython3",
   "version": "3.8.5-final"
  },
  "orig_nbformat": 2,
  "kernelspec": {
   "name": "python3",
   "display_name": "Python 3",
   "language": "python"
  }
 },
 "nbformat": 4,
 "nbformat_minor": 2,
 "cells": [
  {
   "cell_type": "code",
   "execution_count": 12,
   "metadata": {},
   "outputs": [
    {
     "output_type": "stream",
     "name": "stdout",
     "text": [
      "bd10e52e1121e92843416211b434bda9\n"
     ]
    }
   ],
   "source": [
    "import requests\n",
    "import json\n",
    "\n",
    "HEADERS = {u'content-type': u'application/json'}\n",
    "\n",
    "REQUEST = requests.get\n",
    "\n",
    "#Get token\n",
    "token = requests.post(\"http://localhost:3000/isUser\", headers=HEADERS, data=json.dumps({\"username\" : \"tester\", \"passwordHash\": \"my dad\"})).json()[\"token\"]\n",
    "print(token)\n",
    "\n",
    "URL_SUFFIX = \"&token=\" + token\n",
    "\n",
    "def test(url): \n",
    "    res = REQUEST(url + URL_SUFFIX, timeout=2.5)\n",
    "    print(\"Code: {}\".format(res.status_code))\n",
    "    print(\"Msgs: {}\".format(res.text))\n",
    "    return res"
   ]
  },
  {
   "cell_type": "code",
   "execution_count": 14,
   "metadata": {},
   "outputs": [
    {
     "output_type": "stream",
     "name": "stdout",
     "text": [
      "Code: 400\nMsgs: {\"error\":\"Invalid login\"}\nCode: 200\nMsgs: {\"units\":[{\"UnitCode\":\"CM20216\",\"UnitName\":\"Human Computer Interaction\"},{\"UnitCode\":\"CM20257\",\"UnitName\":\"Integrated Group Project\"},{\"UnitCode\":\"CM20256\",\"UnitName\":\"Functional Programming\"},{\"UnitCode\":\"CM20253\",\"UnitName\":\"Comparative Programming\"},{\"UnitCode\":\"CM20252\",\"UnitName\":\"Artificial Intelligence\"},{\"UnitCode\":\"CM20220\",\"UnitName\":\"Machine Learning\"}]}\n"
     ]
    },
    {
     "output_type": "execute_result",
     "data": {
      "text/plain": [
       "<Response [200]>"
      ]
     },
     "metadata": {},
     "execution_count": 14
    }
   ],
   "source": [
    "test(\"http://localhost:3000/getUserBrowsing/invalid\")\n",
    "\n",
    "test(\"http://localhost:3000/getUserBrowsing/tester\")"
   ]
  },
  {
   "cell_type": "code",
   "execution_count": null,
   "metadata": {},
   "outputs": [],
   "source": []
  }
 ]
}