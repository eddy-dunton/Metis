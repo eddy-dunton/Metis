{
 "metadata": {
  "language_info": {
   "codemirror_mode": {
    "name": "ipython",
    "version": 3
   },
   "file_extension": ".py",
   "mimetype": "text/x-python",
   "name": "python",
   "nbconvert_exporter": "python",
   "pygments_lexer": "ipython3",
   "version": "3.8.0-final"
  },
  "orig_nbformat": 2,
  "kernelspec": {
   "name": "python3",
   "display_name": "Python 3.8.0 64-bit",
   "metadata": {
    "interpreter": {
     "hash": "8626563694a42e7f53bb488c7fac00bffb55f07be9d630600f538ebdcfe7f7a3"
    }
   }
  }
 },
 "nbformat": 4,
 "nbformat_minor": 2,
 "cells": [
  {
   "cell_type": "code",
   "execution_count": 1,
   "metadata": {},
   "outputs": [],
   "source": [
    "import requests\n",
    "import json\n",
    "\n",
    "REQUEST = requests.post\n",
    "\n",
    "HEADERS = {u'content-type': u'application/json'}\n",
    "\n",
    "URL = \"http://localhost:3000/penPost\"\n",
    "\n",
    "#Get token\n",
    "token = requests.post(\"http://localhost:3000/isUser\", headers=HEADERS, data=json.dumps({\"username\" : \"tester\", \"passwordHash\": \"my dad\"})).json()[\"token\"]\n",
    "\n",
    "def test(body):\n",
    "    res = REQUEST(URL, headers= HEADERS, data=json.dumps(body), timeout=2.5)\n",
    "    print(\"Code: {}\".format(res.status_code))\n",
    "    print(\"Msgs: {}\\n\".format(res.text))\n",
    "    return res"
   ]
  },
  {
   "cell_type": "code",
   "execution_count": null,
   "metadata": {},
   "outputs": [],
   "source": [
    "#Works\n",
    "test({\"username\":\"tester\", \"token\":token, \"file\":\"tester-636120a629e1539d87fa47afee8847a253690437-1614799468655.pdf\"})"
   ]
  },
  {
   "cell_type": "code",
   "execution_count": 3,
   "metadata": {},
   "outputs": [
    {
     "output_type": "stream",
     "name": "stdout",
     "text": [
      "Code: 400\nMsgs: {\"error\":\"Invalid token\"}\n\nCode: 400\nMsgs: {\"error\":\"Invalid token\"}\n\nCode: 400\nMsgs: {\"error\":\"Invalid filepath\"}\n\nCode: 200\nMsgs: \n\nCode: 200\nMsgs: \n\nCode: 400\nMsgs: {\"error\":\"Invalid token\"}\n\n"
     ]
    },
    {
     "output_type": "execute_result",
     "data": {
      "text/plain": [
       "<Response [400]>"
      ]
     },
     "metadata": {},
     "execution_count": 3
    }
   ],
   "source": [
    "#No works\n",
    "test({\"username\":\"tester\"})\n",
    "\n",
    "test({\"username\":\"bleh\", \"token\":token, \"file\":\"tester-636120a629e1539d87fa47afee8847a253690437-1614799468655.pdf\"})\n",
    "\n",
    "test({\"username\":\"tester\", \"token\":token})\n",
    "\n",
    "test({\"username\":\"tester\", \"token\":token, \"file\":\"tester-636120a629e1539d87fa47afee8847a253690437-1614799468654.pdf\"}) #Returns 200, does nothing\n",
    "\n",
    "test({\"username\":\"tester\", \"file\":\"tester-636120a629e1539d87fa47afee8847a253690437-1614799468655.pdf\"})\n"
   ]
  },
  {
   "cell_type": "code",
   "execution_count": null,
   "metadata": {},
   "outputs": [],
   "source": []
  }
 ]
}