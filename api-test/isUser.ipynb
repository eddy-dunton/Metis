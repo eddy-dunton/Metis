{
 "metadata": {
  "language_info": {
   "codemirror_mode": {
    "name": "ipython",
    "version": 3
   },
   "file_extension": ".py",
   "mimetype": "text/x-python",
   "name": "python",
   "nbconvert_exporter": "python",
   "pygments_lexer": "ipython3",
   "version": "3.8.0-final"
  },
  "orig_nbformat": 2,
  "kernelspec": {
   "name": "python3",
   "display_name": "Python 3.8.0 64-bit",
   "metadata": {
    "interpreter": {
     "hash": "8626563694a42e7f53bb488c7fac00bffb55f07be9d630600f538ebdcfe7f7a3"
    }
   }
  }
 },
 "nbformat": 4,
 "nbformat_minor": 2,
 "cells": [
  {
   "cell_type": "code",
   "execution_count": 8,
   "metadata": {},
   "outputs": [],
   "source": [
    "import requests\n",
    "import json\n",
    "\n",
    "HEADERS = {u'content-type': u'application/json'}\n",
    "\n",
    "REQUEST = requests.post\n",
    "\n",
    "URL = \"http://localhost:3000/isUser\"\n",
    "\n",
    "def test(body): \n",
    "    res = REQUEST(URL, headers=HEADERS, data=json.dumps(body), timeout=2.5)\n",
    "    print(\"Code: {}\".format(res.status_code))\n",
    "    print(\"Msgs: {}\".format(res.text))\n",
    "    return res"
   ]
  },
  {
   "cell_type": "code",
   "execution_count": 9,
   "metadata": {},
   "outputs": [
    {
     "output_type": "stream",
     "name": "stdout",
     "text": [
      "Code: 400\n",
      "Msgs: {\"error\":\"No username or email field\"}\n",
      "Code: 400\n",
      "Msgs: {\"error\":\"No username or email field\"}\n",
      "Code: 400\n",
      "Msgs: {\"error\":\"No username or email field\"}\n",
      "Code: 400\n",
      "Msgs: {\"error\":\"Email Invalid\"}\n",
      "Code: 400\n",
      "Msgs: {\"error\":\"Invalid credentials\"}\n",
      "Code: 400\n",
      "Msgs: {\"error\":\"No password field\"}\n"
     ]
    },
    {
     "output_type": "execute_result",
     "data": {
      "text/plain": [
       "<Response [400]>"
      ]
     },
     "metadata": {},
     "execution_count": 9
    }
   ],
   "source": [
    "#Fails\n",
    "\n",
    "#No usrname\n",
    "test({})\n",
    "\n",
    "#No password\n",
    "test({\"username\": \"test\"})\n",
    "\n",
    "#Wrong password\n",
    "test({\"username\": \"test\", \"passwordHash\": \"bla\"})\n",
    "\n",
    "#Invalid email\n",
    "test({\"email\": \"test\", \"passwordHash\": \"bla\"})\n",
    "\n",
    "#Wrong password\n",
    "test({\"email\": \"test@bath.ac.uk\", \"passwordHash\": \"bla\"})\n",
    "\n",
    "#No password\n",
    "test({\"email\": \"test@oxford.ac.uk\"})\n"
   ]
  },
  {
   "cell_type": "code",
   "execution_count": 10,
   "metadata": {},
   "outputs": [
    {
     "output_type": "stream",
     "name": "stdout",
     "text": [
      "Code: 200\n",
      "Msgs: {\"username\":\"tester\",\"token\":\"fc1bc5d79d25c2d4040e96aa6c9dbd36\"}\n",
      "Code: 200\n",
      "Msgs: {\"username\":\"tester\",\"token\":\"f308b1e869921f32af1d3e3cbaa7d795\"}\n"
     ]
    },
    {
     "output_type": "execute_result",
     "data": {
      "text/plain": [
       "<Response [200]>"
      ]
     },
     "metadata": {},
     "execution_count": 10
    }
   ],
   "source": [
    "#Succeeds\n",
    "test({\"username\": \"tester\", \"passwordHash\": \"my dad\"})\n",
    "\n",
    "test({\"email\": \"test@bath.ac.uk\", \"passwordHash\": \"my dad\"})"
   ]
  },
  {
   "cell_type": "code",
   "execution_count": null,
   "metadata": {},
   "outputs": [],
   "source": []
  }
 ]
}