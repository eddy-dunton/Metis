{
 "metadata": {
  "language_info": {
   "codemirror_mode": {
    "name": "ipython",
    "version": 3
   },
   "file_extension": ".py",
   "mimetype": "text/x-python",
   "name": "python",
   "nbconvert_exporter": "python",
   "pygments_lexer": "ipython3",
   "version": "3.8.0-final"
  },
  "orig_nbformat": 2,
  "kernelspec": {
   "name": "python3",
   "display_name": "Python 3.8.0 64-bit",
   "metadata": {
    "interpreter": {
     "hash": "8626563694a42e7f53bb488c7fac00bffb55f07be9d630600f538ebdcfe7f7a3"
    }
   }
  }
 },
 "nbformat": 4,
 "nbformat_minor": 2,
 "cells": [
  {
   "cell_type": "code",
   "execution_count": 68,
   "metadata": {},
   "outputs": [],
   "source": [
    "#Running these will require some database wrangling\n",
    "#Both in order to test they actually worked\n",
    "#And also to allow for them to be repeated\n",
    "#These won't work when run twice in a row unless you reset database changes\n",
    "\n",
    "import requests\n",
    "import json\n",
    "\n",
    "REQUEST = requests.post\n",
    "\n",
    "HEADERS = {u'content-type': u'application/json'}\n",
    "\n",
    "URL = \"http://localhost:3000/joinUnit\"\n",
    "\n",
    "#Get token\n",
    "token = requests.post(\"http://localhost:3000/isUser\", headers=HEADERS, data=json.dumps({\"username\" : \"tester\", \"passwordHash\": \"my dad\"})).json()[\"token\"]\n",
    "\n",
    "def test(body):\n",
    "    res = REQUEST(URL, data=json.dumps(body), headers=HEADERS, timeout=2.5)\n",
    "    print(\"Code: {}\".format(res.status_code))\n",
    "    print(\"Msgs: {}\\n\".format(res.text))\n",
    "    return res"
   ]
  },
  {
   "cell_type": "code",
   "execution_count": 69,
   "metadata": {},
   "outputs": [
    {
     "output_type": "stream",
     "name": "stdout",
     "text": [
      "Code: 400\nMsgs: Invalid token\n\nCode: 400\nMsgs: {\"error\":\"User already in unit\"}\n\nCode: 400\nMsgs: {\"error\":\"User already in unit\"}\n\n"
     ]
    },
    {
     "output_type": "execute_result",
     "data": {
      "text/plain": [
       "<Response [400]>"
      ]
     },
     "metadata": {},
     "execution_count": 69
    }
   ],
   "source": [
    "#Fails\n",
    "test({\"username\":\"tester\",\"unitcode\":\"CM10251\"})\n",
    "\n",
    "#Works\n",
    "test({\"username\":\"tester\",\"unitcode\":\"CM10251\",\"token\":token})\n",
    "\n",
    "#Fails\n",
    "test({\"username\":\"tester\",\"unitcode\":\"CM10251\",\"token\":token})"
   ]
  },
  {
   "cell_type": "code",
   "execution_count": 70,
   "metadata": {},
   "outputs": [
    {
     "output_type": "stream",
     "name": "stdout",
     "text": [
      "Code: 400\nMsgs: No such unit exists\n\nCode: 400\nMsgs: Invalid token\n\nCode: 400\nMsgs: Invalid token\n\nCode: 400\nMsgs: No / Invalid username\n\nCode: 400\nMsgs: Invalid token\n\n"
     ]
    },
    {
     "output_type": "execute_result",
     "data": {
      "text/plain": [
       "<Response [400]>"
      ]
     },
     "metadata": {},
     "execution_count": 70
    }
   ],
   "source": [
    "#All fail\n",
    "test({\"username\":\"tester\",\"unitcode\":\"CM10250\",\"token\":token})\n",
    "\n",
    "test({\"username\":\"teste\",\"unitcode\":\"CM10250\",\"token\":token})\n",
    "\n",
    "test({\"username\":\"eddydunton\",\"unitcode\":\"CM10250\",\"token\":token})\n",
    "\n",
    "test({\"username\":\"tester \",\"unitcode\":\"CM10251\"})\n",
    "\n",
    "test({\"username\":\"tester\",\"unitcode\":\"CM10251 \"})\n"
   ]
  },
  {
   "cell_type": "code",
   "execution_count": null,
   "metadata": {},
   "outputs": [],
   "source": []
  }
 ]
}