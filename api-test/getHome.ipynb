{
 "metadata": {
  "language_info": {
   "codemirror_mode": {
    "name": "ipython",
    "version": 3
   },
   "file_extension": ".py",
   "mimetype": "text/x-python",
   "name": "python",
   "nbconvert_exporter": "python",
   "pygments_lexer": "ipython3",
   "version": "3.8.0-final"
  },
  "orig_nbformat": 2,
  "kernelspec": {
   "name": "python3",
   "display_name": "Python 3.8.0 64-bit",
   "metadata": {
    "interpreter": {
     "hash": "8626563694a42e7f53bb488c7fac00bffb55f07be9d630600f538ebdcfe7f7a3"
    }
   }
  }
 },
 "nbformat": 4,
 "nbformat_minor": 2,
 "cells": [
  {
   "cell_type": "code",
   "execution_count": 2,
   "metadata": {},
   "outputs": [
    {
     "output_type": "stream",
     "name": "stdout",
     "text": [
      "87c9141e33e101926171853077492c73\n"
     ]
    }
   ],
   "source": [
    "import requests\n",
    "import json\n",
    "\n",
    "HEADERS = {u'content-type': u'application/json'}\n",
    "\n",
    "REQUEST = requests.get\n",
    "\n",
    "#Get token\n",
    "token = requests.post(\"http://localhost:3000/isUser\", headers=HEADERS, data=json.dumps({\"username\" : \"tester\", \"passwordHash\": \"my dad\"})).json()[\"token\"]\n",
    "print(token)\n",
    "\n",
    "URL_SUFFIX = \"&token=\" + token\n",
    "\n",
    "def test(url): \n",
    "    res = REQUEST(url + URL_SUFFIX, timeout=2.5)\n",
    "    print(\"Code: {}\".format(res.status_code))\n",
    "    print(\"Msgs: {}\".format(res.text))\n",
    "    return res"
   ]
  },
  {
   "cell_type": "code",
   "execution_count": 3,
   "metadata": {},
   "outputs": [
    {
     "output_type": "stream",
     "name": "stdout",
     "text": [
      "Code: 400\nMsgs: {\"error\":\"Invalid login\"}\nCode: 200\nMsgs: {\"posts\":[{\"File\":\"asd-b33bc9cf29eee1445460df173bbffba5589cd164-1615846630715.pdf\",\"Title\":\"transcripts\",\"Pens\":\"0\",\"Downloads\":0,\"Description\":\"transcripts\",\"UnitCode\":\"CM20216\"},{\"File\":\"fortnite-ef05886e373bd6344c5a384d3a4bc584ff9fe701-1615735029226.pdf\",\"Title\":\"automata\",\"Pens\":\"0\",\"Downloads\":0,\"Description\":\"Fuck u Bitch ass\",\"UnitCode\":\"CM20252\"},{\"File\":\"fortnite-ef05886e373bd6344c5a384d3a4bc584ff9fe701-1615735028347.pdf\",\"Title\":\"automata\",\"Pens\":\"0\",\"Downloads\":0,\"Description\":\"Fuck u Bitch ass\",\"UnitCode\":\"CM20252\"},{\"File\":\"fortnite-b42562aee1dfc332c55910a96a4698b4b92a06d6-1615733863916.pdf\",\"Title\":\"FORTNITE NOTES\",\"Pens\":\"0\",\"Downloads\":0,\"Description\":\"test uplaod\",\"UnitCode\":\"CM20252\"},{\"File\":\"fortnite-b42562aee1dfc332c55910a96a4698b4b92a06d6-1615733863732.pdf\",\"Title\":\"FORTNITE NOTES\",\"Pens\":\"0\",\"Downloads\":0,\"Description\":\"test uplaod\",\"UnitCode\":\"CM20252\"}]}\n"
     ]
    },
    {
     "output_type": "execute_result",
     "data": {
      "text/plain": [
       "<Response [200]>"
      ]
     },
     "metadata": {},
     "execution_count": 3
    }
   ],
   "source": [
    "test(\"http://localhost:3000/getHome/invalid\")\n",
    "\n",
    "test(\"http://localhost:3000/getHome/tester\")"
   ]
  },
  {
   "cell_type": "code",
   "execution_count": null,
   "metadata": {},
   "outputs": [],
   "source": []
  }
 ]
}