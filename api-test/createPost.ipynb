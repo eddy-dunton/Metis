{
 "metadata": {
  "language_info": {
   "codemirror_mode": {
    "name": "ipython",
    "version": 3
   },
   "file_extension": ".py",
   "mimetype": "text/x-python",
   "name": "python",
   "nbconvert_exporter": "python",
   "pygments_lexer": "ipython3",
   "version": "3.8.0-final"
  },
  "orig_nbformat": 2,
  "kernelspec": {
   "name": "python3",
   "display_name": "Python 3.8.0 64-bit",
   "metadata": {
    "interpreter": {
     "hash": "8626563694a42e7f53bb488c7fac00bffb55f07be9d630600f538ebdcfe7f7a3"
    }
   }
  }
 },
 "nbformat": 4,
 "nbformat_minor": 2,
 "cells": [
  {
   "cell_type": "code",
   "execution_count": 1,
   "metadata": {},
   "outputs": [],
   "source": [
    "import requests\n",
    "import json\n",
    "\n",
    "REQUEST = requests.post\n",
    "\n",
    "URL = \"http://localhost:3000/createPost\"\n",
    "\n",
    "#Get token\n",
    "token = requests.post(\"http://localhost:3000/isUser\", headers={u'content-type': u'application/json'}, data=json.dumps({\"username\" : \"tester\", \"passwordHash\": \"my dad\"})).json()[\"token\"]\n",
    "\n",
    "def test(body, filepath):\n",
    "    files = {\"upload\": open(filepath, \"rb\")}\n",
    "    res = REQUEST(URL, files = files, data=body, timeout=2.5)\n",
    "    print(\"Code: {}\".format(res.status_code))\n",
    "    print(\"Msgs: {}\\n\".format(res.text))\n",
    "    return res"
   ]
  },
  {
   "cell_type": "code",
   "execution_count": 2,
   "metadata": {},
   "outputs": [
    {
     "output_type": "stream",
     "name": "stdout",
     "text": [
      "Code: 200\nMsgs: tester-636120a629e1539d87fa47afee8847a253690437-1614801084890.pdf\n\n"
     ]
    },
    {
     "output_type": "execute_result",
     "data": {
      "text/plain": [
       "<Response [200]>"
      ]
     },
     "metadata": {},
     "execution_count": 2
    }
   ],
   "source": [
    "test({\"username\": \"tester\", \"token\": token, \"unitcode\": \"CM20216\", \"title\": \"Hello world\", \"description\": \"McGill\\nSmells\"}, \"test.pdf\") #Works"
   ]
  },
  {
   "cell_type": "code",
   "execution_count": 3,
   "metadata": {},
   "outputs": [
    {
     "output_type": "stream",
     "name": "stdout",
     "text": [
      "Code: 400\n",
      "Msgs: No / Invalid username\n",
      "\n",
      "Code: 400\n",
      "Msgs: Invalid login\n",
      "\n",
      "Code: 400\n",
      "Msgs: Invalid login\n",
      "\n",
      "Code: 400\n",
      "Msgs: Invalid login\n",
      "\n",
      "Code: 400\n",
      "Msgs: Invalid unitcode\n",
      "\n",
      "Code: 400\n",
      "Msgs: User or Unitcode incorrect\n",
      "\n",
      "Code: 400\n",
      "Msgs: Invalid title\n",
      "\n",
      "Code: 400\n",
      "Msgs: Invalid title\n",
      "\n",
      "Code: 400\n",
      "Msgs: Invalid description\n",
      "\n",
      "Code: 400\n",
      "Msgs: Invalid description\n",
      "\n"
     ]
    },
    {
     "output_type": "execute_result",
     "data": {
      "text/plain": [
       "<Response [400]>"
      ]
     },
     "metadata": {},
     "execution_count": 3
    }
   ],
   "source": [
    "#No works\n",
    "test({\"usernam\": \"tester\", \"token\": token, \"unitcode\": \"CM20216\", \"title\": \"Hello world\", \"description\": \"\"}, \"test.pdf\") #No username\n",
    "\n",
    "test({\"username\": \"john\", \"token\": token, \"unitcode\": \"CM20216\", \"title\": \"Hello world\", \"description\": \"\"}, \"test.pdf\") #User doesn't exist\n",
    "\n",
    "test({\"username\": \"eddydunton\", \"token\": token, \"unitcode\": \"CM20216\", \"title\": \"Hello world\", \"description\": \"\"}, \"test.pdf\") #Incorrect token for user\n",
    "\n",
    "test({\"username\": \"eddydunton\", \"unitcode\": \"CM20216\", \"title\": \"Hello world\", \"description\": \"\"}, \"test.pdf\") #No token\n",
    "\n",
    "test({\"username\": \"tester\", \"token\": token, \"unitcode\": \"MY DAD\", \"title\": \"Hello world\", \"description\": \"\"}, \"test.pdf\") #Invalid unit\n",
    "\n",
    "test({\"username\": \"tester\", \"token\": token, \"unitcode\": \"MYDAD\", \"title\": \"Hello world\", \"description\": \"\"}, \"test.pdf\") #Incorrect unit\n",
    "\n",
    "test({\"username\": \"tester\", \"token\": token, \"unitcode\": \"CM20216\", \"title\": \"Hello world!!!!\", \"description\": \"\"}, \"test.pdf\") #Invalid title\n",
    "\n",
    "test({\"username\": \"tester\", \"token\": token, \"unitcode\": \"CM20216\", \"description\": \"\"}, \"test.pdf\") #No title\n",
    "\n",
    "test({\"username\": \"tester\", \"token\": token, \"unitcode\": \"CM20216\", \"title\": \"Hello world\", \"description\": \"!!\"}, \"test.pdf\") #Invalid description\n",
    "\n",
    "test({\"username\": \"tester\", \"token\": token, \"unitcode\": \"CM20216\", \"title\": \"Hello world\"}, \"test.pdf\") #No description"
   ]
  },
  {
   "cell_type": "code",
   "execution_count": null,
   "metadata": {},
   "outputs": [],
   "source": []
  }
 ]
}