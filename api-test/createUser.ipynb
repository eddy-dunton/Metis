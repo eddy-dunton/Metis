{
 "metadata": {
  "language_info": {
   "codemirror_mode": {
    "name": "ipython",
    "version": 3
   },
   "file_extension": ".py",
   "mimetype": "text/x-python",
   "name": "python",
   "nbconvert_exporter": "python",
   "pygments_lexer": "ipython3",
   "version": "3.8.5-final"
  },
  "orig_nbformat": 2,
  "kernelspec": {
   "name": "python3",
   "display_name": "Python 3",
   "language": "python"
  }
 },
 "nbformat": 4,
 "nbformat_minor": 2,
 "cells": [
  {
   "cell_type": "code",
   "execution_count": 12,
   "metadata": {},
   "outputs": [],
   "source": [
    "import requests\n",
    "import json\n",
    "\n",
    "HEADERS = {u'content-type': u'application/json'}\n",
    "\n",
    "def test(func, url, body): \n",
    "    res = func(url, headers=HEADERS, data=json.dumps(body), timeout=2.5)\n",
    "    print(\"Code: {}\".format(res.status_code))\n",
    "    print(\"Msgs: {}\".format(res.text))\n",
    "    return res"
   ]
  },
  {
   "cell_type": "code",
   "execution_count": 13,
   "metadata": {},
   "outputs": [
    {
     "output_type": "stream",
     "name": "stdout",
     "text": [
      "Code: 400\nMsgs: {\"message\":\"No / Invalid email\"}\nCode: 400\nMsgs: {\"message\":\"No / Invalid email\"}\nCode: 400\nMsgs: {\"message\":\"No / Invalid email\"}\nCode: 400\nMsgs: {\"message\":\"No / Invalid email\"}\nCode: 400\nMsgs: {\"error\":\"Not a valid university email\"}\n"
     ]
    }
   ],
   "source": [
    "#These should all fail\n",
    "\n",
    "#No email\n",
    "res = test(requests.post, \"http://localhost:3000/createUser\", {})\n",
    "assert res.status_code == 400\n",
    "\n",
    "#No username\n",
    "data = {\"email\": \"test@bath.ac.k\"}\n",
    "res = test(requests.post, \"http://localhost:3000/createUser\", data)\n",
    "assert res.status_code == 400\n",
    "\n",
    "#No password\n",
    "data = {\"email\": \"test@bath.ac.k\", \"username\": \"test\"}\n",
    "res = test(requests.post, \"http://localhost:3000/createUser\", data)\n",
    "assert res.status_code == 400\n",
    "\n",
    "#Invalid email\n",
    "data = {\"email\": \"testbath.ac.k\", \"username\": \"test\", \"passwordHash\": \"my dad\"}\n",
    "res = test(requests.post, \"http://localhost:3000/createUser\", data)\n",
    "assert res.status_code == 400\n",
    "\n",
    "#Not an academic email\n",
    "data = {\"email\": \"test@gmail.com\", \"username\": \"tester\", \"passwordHash\": \"my dad\"}\n",
    "res = test(requests.post, \"http://localhost:3000/createUser\", data)\n",
    "assert res.status_code == 400\n",
    "\n",
    "\n"
   ]
  },
  {
   "cell_type": "code",
   "execution_count": 14,
   "metadata": {},
   "outputs": [
    {
     "output_type": "stream",
     "name": "stdout",
     "text": [
      "Code: 400\nMsgs: {\"error\":\"Email / Username already taken\"}\nCode: 400\nMsgs: {\"error\":\"Email / Username already taken\"}\n"
     ]
    }
   ],
   "source": [
    "#The first should work but the second fail\n",
    "#Although if this script is already run and the user has already been created it may not work\n",
    "data = {\"email\": \"test@bath.ac.uk\", \"username\": \"tester\", \"passwordHash\": \"my dad\"}\n",
    "res = test(requests.post, \"http://localhost:3000/createUser\", data)\n",
    "#assert res.status_code == 200\n",
    "\n",
    "data = {\"email\": \"test@bath.ac.uk\", \"username\": \"tester\", \"passwordHash\": \"my dad\"}\n",
    "res = test(requests.post, \"http://localhost:3000/createUser\", data)\n",
    "assert res.status_code == 400"
   ]
  },
  {
   "cell_type": "code",
   "execution_count": null,
   "metadata": {},
   "outputs": [],
   "source": []
  }
 ]
}