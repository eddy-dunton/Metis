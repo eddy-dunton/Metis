{
 "metadata": {
  "language_info": {
   "codemirror_mode": {
    "name": "ipython",
    "version": 3
   },
   "file_extension": ".py",
   "mimetype": "text/x-python",
   "name": "python",
   "nbconvert_exporter": "python",
   "pygments_lexer": "ipython3",
   "version": 3
  },
  "orig_nbformat": 2
 },
 "nbformat": 4,
 "nbformat_minor": 2,
 "cells": [
  {
   "cell_type": "code",
   "execution_count": null,
   "metadata": {},
   "outputs": [],
   "source": [
    "#Running these will require some database wrangling\n",
    "#Both in order to test they actually worked\n",
    "#And also to allow for them to be repeated\n",
    "#These won't work when run twice in a row unless you reset database changes\n",
    "\n",
    "import requests\n",
    "import json\n",
    "\n",
    "REQUEST = requests.post\n",
    "\n",
    "HEADERS = {u'content-type': u'application/json'}\n",
    "\n",
    "URL = \"http://localhost:3000/joinUnit\"\n",
    "\n",
    "#Get token\n",
    "token = requests.post(\"http://localhost:3000/isUser\", headers=HEADERS, data=json.dumps({\"username\" : \"tester\", \"passwordHash\": \"my dad\"})).json()[\"token\"]\n",
    "\n",
    "def test(body):\n",
    "    res = REQUEST(URL, data=body, headers=HEADERS, timeout=2.5)\n",
    "    print(\"Code: {}\".format(res.status_code))\n",
    "    print(\"Msgs: {}\\n\".format(res.text))\n",
    "    return res"
   ]
  },
  {
   "cell_type": "code",
   "execution_count": null,
   "metadata": {},
   "outputs": [],
   "source": [
    "#Fails\n",
    "test({\"username\":\"tester\",\"unitcode\":\"CM10251\"})\n",
    "\n",
    "#Works\n",
    "test({\"username\":\"tester\",\"unitcode\":\"CM10251\",\"token\":token})\n",
    "\n",
    "#Fails\n",
    "test({\"username\":\"tester\",\"unitcode\":\"CM10251\",\"token\":token})"
   ]
  },
  {
   "cell_type": "code",
   "execution_count": null,
   "metadata": {},
   "outputs": [],
   "source": [
    "#All fail\n",
    "test({\"username\":\"tester\",\"unitcode\":\"CM10250\",\"token\":token})\n",
    "\n",
    "test({\"username\":\"teste\",\"unitcode\":\"CM10250\",\"token\":token})\n",
    "\n",
    "test({\"username\":\"eddydunton\",\"unitcode\":\"CM10250\",\"token\":token})\n",
    "\n",
    "test({\"username\":\"tester \",\"unitcode\":\"CM10251\"})\n",
    "\n",
    "test({\"username\":\"tester\",\"unitcode\":\"CM10251 \"})\n"
   ]
  }
 ]
}