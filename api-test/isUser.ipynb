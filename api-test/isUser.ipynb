{
 "metadata": {
  "language_info": {
   "codemirror_mode": {
    "name": "ipython",
    "version": 3
   },
   "file_extension": ".py",
   "mimetype": "text/x-python",
   "name": "python",
   "nbconvert_exporter": "python",
   "pygments_lexer": "ipython3",
   "version": "3.8.5-final"
  },
  "orig_nbformat": 2,
  "kernelspec": {
   "name": "python3",
   "display_name": "Python 3",
   "language": "python"
  }
 },
 "nbformat": 4,
 "nbformat_minor": 2,
 "cells": [
  {
   "cell_type": "code",
   "execution_count": 4,
   "metadata": {},
   "outputs": [],
   "source": [
    "import requests\n",
    "import json\n",
    "\n",
    "HEADERS = {u'content-type': u'application/json'}\n",
    "\n",
    "REQUEST = requests.post\n",
    "\n",
    "URL = \"http://localhost:3000/isUser\"\n",
    "\n",
    "def test(body): \n",
    "    res = REQUEST(URL, headers=HEADERS, data=json.dumps(body), timeout=2.5)\n",
    "    print(\"Code: {}\".format(res.status_code))\n",
    "    print(\"Msgs: {}\".format(res.text))\n",
    "    return res"
   ]
  },
  {
   "cell_type": "code",
   "execution_count": 5,
   "metadata": {},
   "outputs": [
    {
     "output_type": "stream",
     "name": "stdout",
     "text": [
      "Code: 400\nMsgs: {\"error\":\"No username or email field\"}\nCode: 400\nMsgs: {\"error\":\"No password field\"}\nCode: 400\nMsgs: {\"error\":\"Invalid credentials\"}\nCode: 400\nMsgs: {\"error\":\"Email Invalid\"}\nCode: 400\nMsgs: {\"error\":\"Invalid credentials\"}\nCode: 400\nMsgs: {\"error\":\"No password field\"}\n"
     ]
    },
    {
     "output_type": "execute_result",
     "data": {
      "text/plain": [
       "<Response [400]>"
      ]
     },
     "metadata": {},
     "execution_count": 5
    }
   ],
   "source": [
    "#Fails\n",
    "\n",
    "#No usrname\n",
    "test({})\n",
    "\n",
    "#No password\n",
    "test({\"username\": \"test\"})\n",
    "\n",
    "#Wrong password\n",
    "test({\"username\": \"test\", \"passwordHash\": \"bla\"})\n",
    "\n",
    "#Invalid email\n",
    "test({\"email\": \"test\", \"passwordHash\": \"bla\"})\n",
    "\n",
    "#Wrong password\n",
    "test({\"email\": \"test@bath.ac.uk\", \"passwordHash\": \"bla\"})\n",
    "\n",
    "#No password\n",
    "test({\"email\": \"test@oxford.ac.uk\"})\n"
   ]
  },
  {
   "cell_type": "code",
   "execution_count": 6,
   "metadata": {},
   "outputs": [
    {
     "output_type": "stream",
     "name": "stdout",
     "text": [
      "Code: 200\nMsgs: {\"username\":\"tester\",\"token\":\"1261912ae7e8e987421bb417673f295a\"}\nCode: 200\nMsgs: {\"username\":\"tester\",\"token\":\"d1ee683893982910b3cce296f75d7fc4\"}\n"
     ]
    },
    {
     "output_type": "execute_result",
     "data": {
      "text/plain": [
       "<Response [200]>"
      ]
     },
     "metadata": {},
     "execution_count": 6
    }
   ],
   "source": [
    "#Succeeds\n",
    "test({\"username\": \"tester\", \"passwordHash\": \"my dad\"})\n",
    "\n",
    "test({\"email\": \"test@bath.ac.uk\", \"passwordHash\": \"my dad\"})"
   ]
  },
  {
   "cell_type": "code",
   "execution_count": null,
   "metadata": {},
   "outputs": [],
   "source": []
  }
 ]
}