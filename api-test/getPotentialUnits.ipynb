{
 "metadata": {
  "language_info": {
   "codemirror_mode": {
    "name": "ipython",
    "version": 3
   },
   "file_extension": ".py",
   "mimetype": "text/x-python",
   "name": "python",
   "nbconvert_exporter": "python",
   "pygments_lexer": "ipython3",
   "version": "3.8.0-final"
  },
  "orig_nbformat": 2,
  "kernelspec": {
   "name": "python3",
   "display_name": "Python 3.8.0 64-bit",
   "metadata": {
    "interpreter": {
     "hash": "8626563694a42e7f53bb488c7fac00bffb55f07be9d630600f538ebdcfe7f7a3"
    }
   }
  }
 },
 "nbformat": 4,
 "nbformat_minor": 2,
 "cells": [
  {
   "cell_type": "code",
   "execution_count": null,
   "metadata": {},
   "outputs": [],
   "source": [
    "import requests\n",
    "import json\n",
    "\n",
    "HEADERS = {u'content-type': u'application/json'}\n",
    "\n",
    "REQUEST = requests.get\n",
    "\n",
    "#Get token\n",
    "token = requests.post(\"http://localhost:3000/isUser\", headers=HEADERS, data=json.dumps({\"username\" : \"tester\", \"passwordHash\": \"my dad\"})).json()[\"token\"]\n",
    "print(token)\n",
    "\n",
    "URL_SUFFIX = \"&token=\" + token\n",
    "\n",
    "def test(url, use_token = True): \n",
    "    res = REQUEST(url + URL_SUFFIX if use_token else url, timeout=2.5)\n",
    "    print(\"Code: {}\".format(res.status_code))\n",
    "    print(\"Msgs: {}\".format(res.text))\n",
    "    return res"
   ]
  },
  {
   "cell_type": "code",
   "execution_count": null,
   "metadata": {},
   "outputs": [],
   "source": [
    "#Should pass\n",
    "test(\"http://localhost:3000/getPotentialUnits/eddydunton\")\n",
    "\n",
    "test(\"http://localhost:3000/getPotentialUnits/tester\")\n"
   ]
  },
  {
   "cell_type": "code",
   "execution_count": null,
   "metadata": {},
   "outputs": [],
   "source": [
    "#Should fail\n",
    "test(\"http://localhost:3000/getPotentialUnits/eddydunt0n\")\n",
    "\n",
    "test(\"http://localhost:3000/getPotentialUnits\")\n",
    "\n",
    "test(\"http://localhost:3000/getPotentialUnits/eddydunton\", False)\n"
   ]
  }
 ]
}