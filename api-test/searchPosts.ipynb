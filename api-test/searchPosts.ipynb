{
 "metadata": {
  "language_info": {
   "codemirror_mode": {
    "name": "ipython",
    "version": 3
   },
   "file_extension": ".py",
   "mimetype": "text/x-python",
   "name": "python",
   "nbconvert_exporter": "python",
   "pygments_lexer": "ipython3",
   "version": "3.8.8-final"
  },
  "orig_nbformat": 2,
  "kernelspec": {
   "name": "python3",
   "display_name": "Python 3.8.8 64-bit",
   "metadata": {
    "interpreter": {
     "hash": "9ad3457fb90e9ce6dd6cd78ff82b3025a0a142cbee43706ee9cf27da51b049f9"
    }
   }
  }
 },
 "nbformat": 4,
 "nbformat_minor": 2,
 "cells": [
  {
   "cell_type": "code",
   "execution_count": 13,
   "metadata": {},
   "outputs": [],
   "source": [
    "import requests\n",
    "import json\n",
    "\n",
    "HEADERS = {u'content-type': u'application/json'}\n",
    "\n",
    "REQUEST = requests.get\n",
    "\n",
    "#Get token\n",
    "token = requests.post(\"http://localhost:3000/isUser\", headers=HEADERS, data=json.dumps({\"username\" : \"tester\", \"passwordHash\": \"my dad\"})).json()[\"token\"]\n",
    "\n",
    "URL_SUFFIX = \"&token=\" + token\n",
    "\n",
    "def test(url, use_token = True): \n",
    "    res = REQUEST(url + URL_SUFFIX if use_token else url, timeout=2.5)\n",
    "    print(\"Code: {}\".format(res.status_code))\n",
    "    print(\"Msgs: {}\".format(res.text))\n",
    "    return res"
   ]
  },
  {
   "cell_type": "code",
   "execution_count": 14,
   "metadata": {},
   "outputs": [
    {
     "output_type": "stream",
     "name": "stdout",
     "text": [
      "Code: 200\nMsgs: [{\"Title\":\"Hello\",\"File\":\"testfile.pdf\",\"Pens\":\"0\",\"Description\":null,\"Downloads\":0,\"UnitCode\":\"CM20216\",\"UnitName\":\"Human Computer Interaction\"},{\"Title\":\"Hello world\",\"File\":\"tester-636120a629e1539d87fa47afee8847a253690437-1614799468655.pdf\",\"Pens\":\"0\",\"Description\":\"McGill\\nSmells\",\"Downloads\":0,\"UnitCode\":\"CM20216\",\"UnitName\":\"Human Computer Interaction\"},{\"Title\":\"Hello world\",\"File\":\"tester-636120a629e1539d87fa47afee8847a253690437-1614801084890.pdf\",\"Pens\":\"0\",\"Description\":\"McGill\\nSmells\",\"Downloads\":0,\"UnitCode\":\"CM20216\",\"UnitName\":\"Human Computer Interaction\"}]\nCode: 200\nMsgs: [{\"Title\":\"World\",\"File\":\"No.pdf\",\"Pens\":\"0\",\"Description\":null,\"Downloads\":0,\"UnitCode\":\"CM20256\",\"UnitName\":\"Functional Programming\"},{\"Title\":\"Hello world\",\"File\":\"tester-636120a629e1539d87fa47afee8847a253690437-1614799468655.pdf\",\"Pens\":\"0\",\"Description\":\"McGill\\nSmells\",\"Downloads\":0,\"UnitCode\":\"CM20216\",\"UnitName\":\"Human Computer Interaction\"},{\"Title\":\"Hello world\",\"File\":\"tester-636120a629e1539d87fa47afee8847a253690437-1614801084890.pdf\",\"Pens\":\"0\",\"Description\":\"McGill\\nSmells\",\"Downloads\":0,\"UnitCode\":\"CM20216\",\"UnitName\":\"Human Computer Interaction\"}]\n"
     ]
    },
    {
     "output_type": "execute_result",
     "data": {
      "text/plain": [
       "<Response [200]>"
      ]
     },
     "metadata": {},
     "execution_count": 14
    }
   ],
   "source": [
    "#Works\n",
    "test(\"http://localhost:3000/searchPosts/hello&username=tester\")\n",
    "\n",
    "test(\"http://localhost:3000/searchPosts/world&username=tester\")"
   ]
  },
  {
   "cell_type": "code",
   "execution_count": 15,
   "metadata": {},
   "outputs": [
    {
     "output_type": "stream",
     "name": "stdout",
     "text": [
      "Code: 200\nMsgs: []\n"
     ]
    },
    {
     "output_type": "execute_result",
     "data": {
      "text/plain": [
       "<Response [200]>"
      ]
     },
     "metadata": {},
     "execution_count": 15
    }
   ],
   "source": [
    "#Works no result\n",
    "test(\"http://localhost:3000/searchPosts/goodbye&username=tester\")"
   ]
  }
 ]
}