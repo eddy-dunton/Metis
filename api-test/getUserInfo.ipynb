{
 "metadata": {
  "language_info": {
   "codemirror_mode": {
    "name": "ipython",
    "version": 3
   },
   "file_extension": ".py",
   "mimetype": "text/x-python",
   "name": "python",
   "nbconvert_exporter": "python",
   "pygments_lexer": "ipython3",
   "version": "3.8.0-final"
  },
  "orig_nbformat": 2,
  "kernelspec": {
   "name": "python3",
   "display_name": "Python 3.8.0 64-bit",
   "metadata": {
    "interpreter": {
     "hash": "8626563694a42e7f53bb488c7fac00bffb55f07be9d630600f538ebdcfe7f7a3"
    }
   }
  }
 },
 "nbformat": 4,
 "nbformat_minor": 2,
 "cells": [
  {
   "cell_type": "code",
   "execution_count": 7,
   "metadata": {},
   "outputs": [
    {
     "output_type": "stream",
     "name": "stdout",
     "text": [
      "eef0f6926e0925374951e030673ecae5\n"
     ]
    }
   ],
   "source": [
    "import requests\n",
    "import json\n",
    "\n",
    "HEADERS = {u'content-type': u'application/json'}\n",
    "\n",
    "REQUEST = requests.get\n",
    "\n",
    "#Get token\n",
    "token = requests.post(\"http://localhost:3000/isUser\", headers=HEADERS, data=json.dumps({\"username\" : \"tester\", \"passwordHash\": \"my dad\"})).json()[\"token\"]\n",
    "print(token)\n",
    "\n",
    "URL_SUFFIX = \"&token=\" + token\n",
    "\n",
    "def test(url): \n",
    "    res = REQUEST(url + URL_SUFFIX, timeout=2.5)\n",
    "    print(\"Code: {}\".format(res.status_code))\n",
    "    print(\"Msgs: {}\".format(res.text))\n",
    "    return res"
   ]
  },
  {
   "cell_type": "code",
   "execution_count": 8,
   "metadata": {},
   "outputs": [
    {
     "output_type": "stream",
     "name": "stdout",
     "text": [
      "Code: 400\nMsgs: No user found\nCode: 200\nMsgs: {\"Name\":\"University of Bath\",\"Score\":0,\"Biography\":\"\",\"posts\":[],\"units\":[]}\nCode: 200\nMsgs: {\"Name\":\"University of Bath\",\"Score\":0,\"Biography\":\"\",\"posts\":[{\"Title\":\"Hello\",\"File\":\"testfile.pdf\",\"Pens\":\"0\",\"Description\":null,\"Downloads\":0,\"UnitCode\":\"CM20216\",\"UnitName\":\"Human Computer Interaction\"},{\"Title\":\"World\",\"File\":\"No.pdf\",\"Pens\":\"0\",\"Description\":null,\"Downloads\":0,\"UnitCode\":\"CM20256\",\"UnitName\":\"Functional Programming\"},{\"Title\":\"Hello world\",\"File\":\"tester-636120a629e1539d87fa47afee8847a253690437-1614799468655.pdf\",\"Pens\":\"0\",\"Description\":\"McGill\\nSmells\",\"Downloads\":0,\"UnitCode\":\"CM20216\",\"UnitName\":\"Human Computer Interaction\"},{\"Title\":\"Hello world\",\"File\":\"tester-636120a629e1539d87fa47afee8847a253690437-1614801084890.pdf\",\"Pens\":\"0\",\"Description\":\"McGill\\nSmells\",\"Downloads\":0,\"UnitCode\":\"CM20216\",\"UnitName\":\"Human Computer Interaction\"}],\"units\":[{\"UnitCode\":\"CM20216\",\"UnitName\":\"Human Computer Interaction\"},{\"UnitCode\":\"CM20257\",\"UnitName\":\"Integrated Group Project\"},{\"UnitCode\":\"CM20256\",\"UnitName\":\"Functional Programming\"},{\"UnitCode\":\"CM20253\",\"UnitName\":\"Comparative Programming\"},{\"UnitCode\":\"CM20252\",\"UnitName\":\"Artificial Intelligence\"},{\"UnitCode\":\"CM20220\",\"UnitName\":\"Machine Learning\"}]}\n"
     ]
    },
    {
     "output_type": "execute_result",
     "data": {
      "text/plain": [
       "<Response [200]>"
      ]
     },
     "metadata": {},
     "execution_count": 8
    }
   ],
   "source": [
    "test(\"http://localhost:3000/getUserInfo/invalid\")\n",
    "\n",
    "test(\"http://localhost:3000/getUserInfo/eddydunton\")\n",
    "\n",
    "test(\"http://localhost:3000/getUserInfo/tester\")"
   ]
  },
  {
   "cell_type": "code",
   "execution_count": null,
   "metadata": {},
   "outputs": [],
   "source": []
  }
 ]
}