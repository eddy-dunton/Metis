{
 "metadata": {
  "language_info": {
   "codemirror_mode": {
    "name": "ipython",
    "version": 3
   },
   "file_extension": ".py",
   "mimetype": "text/x-python",
   "name": "python",
   "nbconvert_exporter": "python",
   "pygments_lexer": "ipython3",
   "version": "3.8.0-final"
  },
  "orig_nbformat": 2,
  "kernelspec": {
   "name": "python3",
   "display_name": "Python 3.8.0 64-bit",
   "metadata": {
    "interpreter": {
     "hash": "8626563694a42e7f53bb488c7fac00bffb55f07be9d630600f538ebdcfe7f7a3"
    }
   }
  }
 },
 "nbformat": 4,
 "nbformat_minor": 2,
 "cells": [
  {
   "cell_type": "code",
   "execution_count": 4,
   "metadata": {},
   "outputs": [
    {
     "output_type": "stream",
     "name": "stdout",
     "text": [
      "eb92456f18e0fcbce2def6690a6baecc\n"
     ]
    }
   ],
   "source": [
    "import requests\n",
    "import json\n",
    "\n",
    "HEADERS = {u'content-type': u'application/json'}\n",
    "\n",
    "REQUEST = requests.get\n",
    "\n",
    "#Get token\n",
    "token = requests.post(\"http://localhost:3000/isUser\", headers=HEADERS, data=json.dumps({\"username\" : \"tester\", \"passwordHash\": \"my dad\"})).json()[\"token\"]\n",
    "print(token)\n",
    "\n",
    "URL_SUFFIX = \"&token=\" + token\n",
    "\n",
    "def test(url, use_token = True): \n",
    "    res = REQUEST(url + URL_SUFFIX if use_token else url, timeout=2.5)\n",
    "    print(\"Code: {}\".format(res.status_code))\n",
    "    print(\"Msgs: {}\".format(res.text))\n",
    "    return res"
   ]
  },
  {
   "cell_type": "code",
   "execution_count": 5,
   "metadata": {},
   "outputs": [
    {
     "output_type": "stream",
     "name": "stdout",
     "text": [
      "Code: 200\nMsgs: {\"Title\":\"Hello world\",\"File\":\"tester-636120a629e1539d87fa47afee8847a253690437-1614801084890.pdf\",\"Pens\":\"0\",\"Description\":\"McGill\\nSmells\",\"Downloads\":0,\"UnitCode\":\"CM20216\",\"UnitName\":\"Human Computer Interaction\"}\n"
     ]
    },
    {
     "output_type": "execute_result",
     "data": {
      "text/plain": [
       "<Response [200]>"
      ]
     },
     "metadata": {},
     "execution_count": 5
    }
   ],
   "source": [
    "#Works\n",
    "test(\"http://localhost:3000/getPost/tester-636120a629e1539d87fa47afee8847a253690437-1614801084890.pdf\")"
   ]
  },
  {
   "cell_type": "code",
   "execution_count": 6,
   "metadata": {},
   "outputs": [
    {
     "output_type": "stream",
     "name": "stdout",
     "text": [
      "Code: 400\n",
      "Msgs: Invalid filepath\n",
      "Code: 404\n",
      "Msgs: <!DOCTYPE html>\n",
      "<html lang=\"en\">\n",
      "<head>\n",
      "<meta charset=\"utf-8\">\n",
      "<title>Error</title>\n",
      "</head>\n",
      "<body>\n",
      "<pre>Cannot GET /getPost/tester-636120a629e1539d87fa47afee8847a253690437-1614799468655.pdf</pre>\n",
      "</body>\n",
      "</html>\n",
      "\n",
      "Code: 400\n",
      "Msgs: File not found\n",
      "Code: 400\n",
      "Msgs: Invalid filepath\n"
     ]
    },
    {
     "output_type": "execute_result",
     "data": {
      "text/plain": [
       "<Response [400]>"
      ]
     },
     "metadata": {},
     "execution_count": 6
    }
   ],
   "source": [
    "#Fails\n",
    "test(\"http://localhost:3000/getPost/tester-636120a629e1539d87fa47afee8847a25369043-1614799468655.pdf\")\n",
    "\n",
    "test(\"http://localhost:3000/getPost/tester-636120a629e1539d87fa47afee8847a253690437-1614799468655.pdf\", False)\n",
    "\n",
    "test(\"http://localhost:3000/getPost/tester-636120a629e1539d87fa47afee8847a253690437-161479946865.pdf\")\n",
    "\n",
    "test(\"http://localhost:3000/getPost/tester-636120a629e1539d87fa47afee8847a253690437-1614799468655.pf\")"
   ]
  },
  {
   "cell_type": "code",
   "execution_count": null,
   "metadata": {},
   "outputs": [],
   "source": []
  }
 ]
}