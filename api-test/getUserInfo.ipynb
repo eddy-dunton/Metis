{
 "metadata": {
  "language_info": {
   "codemirror_mode": {
    "name": "ipython",
    "version": 3
   },
   "file_extension": ".py",
   "mimetype": "text/x-python",
   "name": "python",
   "nbconvert_exporter": "python",
   "pygments_lexer": "ipython3",
   "version": "3.8.0-final"
  },
  "orig_nbformat": 2,
  "kernelspec": {
   "name": "python3",
   "display_name": "Python 3.8.0 64-bit",
   "metadata": {
    "interpreter": {
     "hash": "8626563694a42e7f53bb488c7fac00bffb55f07be9d630600f538ebdcfe7f7a3"
    }
   }
  }
 },
 "nbformat": 4,
 "nbformat_minor": 2,
 "cells": [
  {
   "cell_type": "code",
   "execution_count": 17,
   "metadata": {},
   "outputs": [
    {
     "output_type": "stream",
     "name": "stdout",
     "text": [
      "305d8f2fef468d1b4a7e110710a9a0d0\n"
     ]
    }
   ],
   "source": [
    "import requests\n",
    "import json\n",
    "\n",
    "HEADERS = {u'content-type': u'application/json'}\n",
    "\n",
    "REQUEST = requests.get\n",
    "\n",
    "#Get token\n",
    "token = requests.post(\"http://localhost:3000/isUser\", headers=HEADERS, data=json.dumps({\"username\" : \"tester\", \"passwordHash\": \"my dad\"})).json()[\"token\"]\n",
    "print(token)\n",
    "\n",
    "URL_SUFFIX = \"&token=\" + token\n",
    "\n",
    "def test(url): \n",
    "    res = REQUEST(url + URL_SUFFIX, timeout=2.5)\n",
    "    print(\"Code: {}\".format(res.status_code))\n",
    "    print(\"Msgs: {}\".format(res.text))\n",
    "    return res"
   ]
  },
  {
   "cell_type": "code",
   "execution_count": 18,
   "metadata": {},
   "outputs": [
    {
     "output_type": "stream",
     "name": "stdout",
     "text": [
      "Code: 400\nMsgs: No user found\nCode: 200\nMsgs: {\"inst\":\"University of Bath\",\"score\":0,\"bio\":\"\",\"posts\":[]}\nCode: 200\nMsgs: {\"inst\":\"University of Bath\",\"score\":0,\"bio\":\"\",\"posts\":[{\"title\":\"Hello\",\"filepath\":\"testfile.pdf\",\"pens\":\"0\",\"desc\":null,\"downloads\":0,\"unit\":\"Human Computer Interaction\",\"unitcode\":\"CM20216\"},{\"title\":\"World\",\"filepath\":\"No.pdf\",\"pens\":\"0\",\"desc\":null,\"downloads\":0,\"unit\":\"Functional Programming\",\"unitcode\":\"CM20256\"}]}\n"
     ]
    },
    {
     "output_type": "execute_result",
     "data": {
      "text/plain": [
       "<Response [200]>"
      ]
     },
     "metadata": {},
     "execution_count": 18
    }
   ],
   "source": [
    "test(\"http://localhost:3000/getUserInfo/invalid\")\n",
    "\n",
    "test(\"http://localhost:3000/getUserInfo/eddydunton\")\n",
    "\n",
    "test(\"http://localhost:3000/getUserInfo/tester\")"
   ]
  },
  {
   "cell_type": "code",
   "execution_count": null,
   "metadata": {},
   "outputs": [],
   "source": []
  }
 ]
}